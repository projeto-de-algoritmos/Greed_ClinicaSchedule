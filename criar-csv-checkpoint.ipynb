{
 "cells": [
  {
   "cell_type": "code",
   "execution_count": 1,
   "metadata": {},
   "outputs": [],
   "source": [
    "from faker import Faker\n",
    "import numpy as np\n",
    "import pandas as pd\n",
    "import random\n",
    "from pathlib import Path"
   ]
  },
  {
   "cell_type": "code",
   "execution_count": 2,
   "metadata": {},
   "outputs": [
    {
     "name": "stderr",
     "output_type": "stream",
     "text": [
      "<ipython-input-2-a67a88b1e7a0>:6: FutureWarning: elementwise comparison failed; returning scalar instead, but in the future will perform elementwise comparison\n",
      "  if nome not in nomes:\n"
     ]
    }
   ],
   "source": [
    "faker = Faker()\n",
    "# Gera 50 nomes sem repeticao usando o faker\n",
    "nomes = np.array([])\n",
    "while len(nomes) < 50:\n",
    "    nome = faker.name()\n",
    "    if nome not in nomes:\n",
    "        nomes = np.append(nomes, nome)"
   ]
  },
  {
   "cell_type": "code",
   "execution_count": 3,
   "metadata": {},
   "outputs": [],
   "source": [
    "# Array criação csv\n",
    "\n",
    "colunas = [\"cpf_paciente\", \"paciente\", \"horario_inicio\", \"horario_termino\", \"medico\"]\n",
    "\n",
    "cpfs = [\"14527839605\",\n",
    "    \"90271483029\",\n",
    "    \"63789215640\",\n",
    "    \"20159476283\",\n",
    "    \"87642103957\",\n",
    "    \"41530968722\",\n",
    "    \"78926354107\",\n",
    "    \"32516790847\",\n",
    "    \"48095627361\",\n",
    "    \"56389274105\",\n",
    "    \"92047365821\",\n",
    "    \"18352609734\",\n",
    "    \"70586931254\",\n",
    "    \"40921835672\",\n",
    "    \"52736409185\",\n",
    "]\n",
    "\n",
    "pacientes = [\"Sofia Garcia da Silva\",\n",
    "    \"Lucas Oliveira Santos\",\n",
    "    \"Maria Fernandes Costa\",\n",
    "    \"João Pereira Rodrigues\",\n",
    "    \"Ana Lima Santos\",\n",
    "    \"Pedro Almeida Carvalho\",\n",
    "    \"Laura Ferreira Gomes\",\n",
    "    \"Gabriel Sousa Martins\",\n",
    "    \"Isabela Santos Silva\",\n",
    "    \"Thiago Oliveira Rodrigues\",\n",
    "    \"Beatriz Costa Alves\",\n",
    "    \"Felipe Cardoso Mendes\",\n",
    "    \"Clara Rodrigues Ramos\",\n",
    "    \"Miguel Santos Lima\",\n",
    "    \"Mariana Gomes Pereira\"]\n",
    "\n",
    "horario_inicio = [\"08:00\", \"09:30\", \"10:15\", \"11:45\", \"13:00\", \"14:30\", \"15:15\", \"16:45\", \"17:30\", \"18:45\", \"20:00\", \"21:15\", \"22:30\", \"23:45\", \"00:30\"]\n",
    "\n",
    "horario_termino = [\"09:00\", \"10:45\", \"11:30\", \"13:15\", \"14:45\", \"15:30\", \"17:00\", \"17:45\", \"19:00\", \"20:15\", \"21:30\", \"22:45\", \"00:00\", \"01:15\", \"02:30\"]\n",
    "\n",
    "dia = [\"2/6/2023\", \"1/06/2023\"]\n",
    "\n",
    "medicos = [\n",
    "    \"Lucas Mendes Castro\",\n",
    "    \"Isabella Santos Rocha\",\n",
    "    \"Guilherme Lima Oliveira\",\n",
    "    \"Laura Ferreira Costa\",\n",
    "    \"Matheus Oliveira Cardoso\",\n",
    "    \"Sophia Silva Carvalho\"\n",
    "]"
   ]
  },
  {
   "cell_type": "code",
   "execution_count": 4,
   "metadata": {},
   "outputs": [],
   "source": [
    "# cria a tabela vazia\n",
    "tabela = []\n",
    "\n",
    "for i in range(15):\n",
    "    \n",
    "    cpf_paciente = cpfs[i]\n",
    "    paciente = pacientes[i]\n",
    "    inicio = horario_inicio[i]\n",
    "    termino = horario_termino[i]\n",
    "    data = random.choice(dia)\n",
    "\n",
    "\n",
    "    tabela.append([cpf_paciente, paciente, inicio, termino, data])\n",
    "\n",
    "\n",
    "# A tabela usuarios vai ser o nosso dataframe base para trablharmos em cima do grafo\n",
    "usuarios = pd.DataFrame(tabela, columns=['cpf_paciente', 'paciente', 'inicio', 'termino', 'data'])\n",
    "\n",
    "\n",
    "filepath = Path('./paciente.csv')\n",
    "filepath.parent.mkdir(parents=True, exist_ok=True)\n",
    "\n",
    "usuarios.to_csv(filepath)"
   ]
  },
  {
   "cell_type": "code",
   "execution_count": 5,
   "metadata": {},
   "outputs": [
    {
     "name": "stdout",
     "output_type": "stream",
     "text": [
      "inicio:  ['3:25', '5:29', '22:53', '20:7', '16:22', '15:6'] fim:  ['11:25', '13:29', '7:53', '5:7', '1:22', '23:6']\n"
     ]
    }
   ],
   "source": [
    "#gera listas horários de inicio e fim de espediente dos medicos\n",
    "inicio = []\n",
    "fim = []\n",
    "\n",
    "for i in range(6):\n",
    "    horas = random.choice(range(23))\n",
    "    minutos = random.choice(range(59))\n",
    "    ini = str(horas) + \":\" + str(minutos)\n",
    "    inicio.append(ini)\n",
    "    hor = horas + 8\n",
    "    if hor>23:\n",
    "        hor -= 23\n",
    "    f = str(hor) + \":\" + str(minutos)\n",
    "    fim.append(f)\n",
    "    \n",
    "\n",
    "print(\"inicio: \", inicio, \"fim: \", fim)"
   ]
  },
  {
   "cell_type": "code",
   "execution_count": 6,
   "metadata": {},
   "outputs": [
    {
     "name": "stdout",
     "output_type": "stream",
     "text": [
      "3:25\n"
     ]
    }
   ],
   "source": [
    "# cria tabela horario medicos\n",
    "tabela_medicos = []\n",
    "print(inicio[0])\n",
    "\n",
    "for i in range(6):\n",
    "    \n",
    "    medico = random.choice(medicos)\n",
    "    ini = inicio[i]\n",
    "    ter = fim[i]\n",
    "\n",
    "\n",
    "    tabela_medicos.append([medico, ini, ter])\n",
    "\n",
    "\n",
    "# A tabela usuarios vai ser o nosso dataframe base para trablharmos em cima do grafo\n",
    "usuarios = pd.DataFrame(tabela_medicos, columns=['medico','inicio', 'termino'])\n",
    "\n",
    "\n",
    "filepath = Path('./medicos.csv')\n",
    "filepath.parent.mkdir(parents=True, exist_ok=True)\n",
    "\n",
    "usuarios.to_csv(filepath)"
   ]
  }
 ],
 "metadata": {
  "kernelspec": {
   "display_name": "myenv",
   "language": "python",
   "name": "myenv"
  },
  "language_info": {
   "codemirror_mode": {
    "name": "ipython",
    "version": 3
   },
   "file_extension": ".py",
   "mimetype": "text/x-python",
   "name": "python",
   "nbconvert_exporter": "python",
   "pygments_lexer": "ipython3",
   "version": "3.8.7"
  }
 },
 "nbformat": 4,
 "nbformat_minor": 2
}
