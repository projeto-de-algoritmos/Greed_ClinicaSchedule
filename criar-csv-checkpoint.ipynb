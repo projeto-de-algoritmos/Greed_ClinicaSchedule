{
 "cells": [
  {
   "cell_type": "code",
   "execution_count": 2,
   "metadata": {},
   "outputs": [],
   "source": [
    "from faker import Faker\n",
    "import numpy as np\n",
    "import pandas as pd\n",
    "import random\n",
    "from pathlib import Path"
   ]
  },
  {
   "cell_type": "code",
   "execution_count": 8,
   "metadata": {},
   "outputs": [
    {
     "name": "stderr",
     "output_type": "stream",
     "text": [
      "<ipython-input-8-a67a88b1e7a0>:6: FutureWarning: elementwise comparison failed; returning scalar instead, but in the future will perform elementwise comparison\n",
      "  if nome not in nomes:\n"
     ]
    }
   ],
   "source": [
    "faker = Faker()\n",
    "# Gera 50 nomes sem repeticao usando o faker\n",
    "nomes = np.array([])\n",
    "while len(nomes) < 50:\n",
    "    nome = faker.name()\n",
    "    if nome not in nomes:\n",
    "        nomes = np.append(nomes, nome)"
   ]
  },
  {
   "cell_type": "code",
   "execution_count": 9,
   "metadata": {},
   "outputs": [],
   "source": [
    "# Array criação csv\n",
    "\n",
    "colunas = [\"cpf_paciente\", \"paciente\", \"horario_inicio\", \"horario_termino\", \"medico\"]\n",
    "\n",
    "cpfs = [\"14527839605\",\n",
    "    \"90271483029\",\n",
    "    \"63789215640\",\n",
    "    \"20159476283\",\n",
    "    \"87642103957\",\n",
    "    \"41530968722\",\n",
    "    \"78926354107\",\n",
    "    \"32516790847\",\n",
    "    \"48095627361\",\n",
    "    \"56389274105\",\n",
    "    \"92047365821\",\n",
    "    \"18352609734\",\n",
    "    \"70586931254\",\n",
    "    \"40921835672\",\n",
    "    \"52736409185\",\n",
    "]\n",
    "\n",
    "pacientes = [\"Sofia Garcia da Silva\",\n",
    "    \"Lucas Oliveira Santos\",\n",
    "    \"Maria Fernandes Costa\",\n",
    "    \"João Pereira Rodrigues\",\n",
    "    \"Ana Lima Santos\",\n",
    "    \"Pedro Almeida Carvalho\",\n",
    "    \"Laura Ferreira Gomes\",\n",
    "    \"Gabriel Sousa Martins\",\n",
    "    \"Isabela Santos Silva\",\n",
    "    \"Thiago Oliveira Rodrigues\",\n",
    "    \"Beatriz Costa Alves\",\n",
    "    \"Felipe Cardoso Mendes\",\n",
    "    \"Clara Rodrigues Ramos\",\n",
    "    \"Miguel Santos Lima\",\n",
    "    \"Mariana Gomes Pereira\"]\n",
    "\n",
    "horario_inicio = [\"08:00\", \"09:30\", \"10:15\", \"11:45\", \"13:00\", \"14:30\", \"15:15\", \"16:45\", \"17:30\", \"18:45\", \"20:00\", \"21:15\", \"22:30\", \"23:45\", \"00:30\"]\n",
    "\n",
    "horario_termino = [\"09:00\", \"10:45\", \"11:30\", \"13:15\", \"14:45\", \"15:30\", \"17:00\", \"17:45\", \"19:00\", \"20:15\", \"21:30\", \"22:45\", \"00:00\", \"01:15\", \"02:30\"]\n",
    "\n",
    "dia = [\"2/6/2023\", \"1/06/2023\"]\n",
    "\n",
    "medicos = [\n",
    "    \"Lucas Mendes Castro\",\n",
    "    \"Isabella Santos Rocha\",\n",
    "    \"Guilherme Lima Oliveira\",\n",
    "    \"Laura Ferreira Costa\",\n",
    "    \"Matheus Oliveira Cardoso\",\n",
    "    \"Sophia Silva Carvalho\"\n",
    "]"
   ]
  },
  {
   "cell_type": "code",
   "execution_count": 10,
   "metadata": {},
   "outputs": [],
   "source": [
    "# cria a tabela vazia\n",
    "tabela = []\n",
    "\n",
    "for i in range(15):\n",
    "    \n",
    "    cpf_paciente = cpfs[i]\n",
    "    paciente = pacientes[i]\n",
    "    inicio = horario_inicio[i]\n",
    "    termino = horario_termino[i]\n",
    "    data = random.choice(dia)\n",
    "\n",
    "\n",
    "    tabela.append([cpf_paciente, paciente, inicio, termino, data])\n",
    "\n",
    "\n",
    "# A tabela usuarios vai ser o nosso dataframe base para trablharmos em cima do grafo\n",
    "usuarios = pd.DataFrame(tabela, columns=['cpf_paciente', 'paciente', 'inicio', 'termino', 'data'])\n",
    "\n",
    "\n",
    "filepath = Path('./paciente.csv')\n",
    "filepath.parent.mkdir(parents=True, exist_ok=True)\n",
    "\n",
    "usuarios.to_csv(filepath)"
   ]
  },
  {
   "cell_type": "code",
   "execution_count": 11,
   "metadata": {},
   "outputs": [
    {
     "name": "stdout",
     "output_type": "stream",
     "text": [
      "inicio:  ['4:36', '0:24', '11:53', '11:34', '16:42', '12:51'] fim:  ['12:36', '8:24', '19:53', '19:34', '1:42', '20:51']\n"
     ]
    }
   ],
   "source": [
    "#gera listas horários de inicio e fim de espediente dos medicos\n",
    "inicio = []\n",
    "fim = []\n",
    "\n",
    "for i in range(6):\n",
    "    horas = random.choice(range(23))\n",
    "    minutos = random.choice(range(59))\n",
    "    ini = str(horas) + \":\" + str(minutos)\n",
    "    inicio.append(ini)\n",
    "    hor = horas + 8\n",
    "    if hor>23:\n",
    "        hor -= 23\n",
    "    f = str(hor) + \":\" + str(minutos)\n",
    "    fim.append(f)\n",
    "    \n",
    "\n",
    "print(\"inicio: \", inicio, \"fim: \", fim)"
   ]
  },
  {
   "cell_type": "code",
   "execution_count": 12,
   "metadata": {},
   "outputs": [
    {
     "name": "stdout",
     "output_type": "stream",
     "text": [
      "4:36\n"
     ]
    }
   ],
   "source": [
    "# cria tabela horario medicos\n",
    "tabela_medicos = []\n",
    "print(inicio[0])\n",
    "\n",
    "for i in range(6):\n",
    "    \n",
    "    medico = random.choice(medicos)\n",
    "    ini = inicio[i]\n",
    "    ter = fim[i]\n",
    "\n",
    "\n",
    "    tabela_medicos.append([medico, ini, ter])\n",
    "\n",
    "\n",
    "# A tabela usuarios vai ser o nosso dataframe base para trablharmos em cima do grafo\n",
    "usuarios = pd.DataFrame(tabela_medicos, columns=['medico','inicio', 'termino'])\n",
    "\n",
    "\n",
    "filepath = Path('./medicos.csv')\n",
    "filepath.parent.mkdir(parents=True, exist_ok=True)\n",
    "\n",
    "usuarios.to_csv(filepath)"
   ]
  },
  {
   "cell_type": "code",
   "execution_count": 7,
   "metadata": {},
   "outputs": [
    {
     "name": "stdout",
     "output_type": "stream",
     "text": [
      "    cpf_paciente inicio termino                    medico\n",
      "0    14527839605  08:00   09:00     Isabella Santos Rocha\n",
      "1    90271483029  09:30   10:45     Isabella Santos Rocha\n",
      "2    52736409185  00:30   02:30  Matheus Oliveira Cardoso\n",
      "3    87642103957  13:00   14:45   Guilherme Lima Oliveira\n",
      "4    78926354107  15:15   17:00   Guilherme Lima Oliveira\n",
      "5    48095627361  17:30   19:00   Guilherme Lima Oliveira\n",
      "6    20159476283  11:45   13:15       Lucas Mendes Castro\n",
      "7    41530968722  14:30   15:30       Lucas Mendes Castro\n",
      "8    32516790847  16:45   17:45       Lucas Mendes Castro\n",
      "9    56389274105  18:45   20:15       Lucas Mendes Castro\n",
      "10   18352609734  21:15   22:45       Lucas Mendes Castro\n",
      "11   40921835672  23:45   01:15       Lucas Mendes Castro\n",
      "12   87642103957  13:00   14:45  Matheus Oliveira Cardoso\n",
      "13   56389274105  18:45   20:15  Matheus Oliveira Cardoso\n"
     ]
    }
   ],
   "source": [
    "from dia_hora import verifica_conflito_hora\n",
    "import datetime\n",
    "import math\n",
    "\n",
    "def csv_interval_scheduling(index, rows):\n",
    "    A = []\n",
    "    index_inserido = []\n",
    "    count = 0\n",
    "    for i in rows:\n",
    "        if len(A) == 0:\n",
    "            A.append(i)\n",
    "\n",
    "        else:\n",
    "            ultimo = datetime.datetime.strptime(A[-1][4], '%H:%M')   #recebe o horário de termino consulta\n",
    "            verifica = datetime.datetime.strptime(A[-1][3], '%H:%M')   #variavel para verificar virada do dia\n",
    "            disputante = datetime.datetime.strptime(i[3], '%H:%M')   #recebe horário de inicio da disputante a ultima\n",
    "            normal = True\n",
    "\n",
    "            #verifica virada do dia\n",
    "            if ultimo<verifica:\n",
    "                if disputante > verifica:\n",
    "                    normal = False\n",
    "            \n",
    "            if normal == True:\n",
    "                if ultimo < disputante:\n",
    "                    A.append(i)\n",
    "                    index_inserido.append(index[count])\n",
    "        count += 1\n",
    "\n",
    "    return index_inserido, A\n",
    "\n",
    "\n",
    "df = pd.read_csv('paciente.csv')\n",
    "dff = pd.read_csv('medicos.csv')\n",
    "\n",
    "atende = []\n",
    "\n",
    "for index, row in dff.iterrows():\n",
    "    rows = []\n",
    "    indexes = []\n",
    "    for ind, r in df.iterrows():\n",
    "        if type(r['inicio']) == float:\n",
    "            break\n",
    "        bol = verifica_conflito_hora(row['inicio'], row['termino'], r['inicio'], r['termino'])\n",
    "\n",
    "        if bol == True:\n",
    "            indexes.append(ind)\n",
    "            rows.append(r)\n",
    "    indice, linha = csv_interval_scheduling(indexes, rows)\n",
    "    for i in linha:\n",
    "        atende.append([i[1], i[3], i[4], row['medico']])\n",
    "    \n",
    "    df = df.drop(indice)\n",
    "\n",
    "atendimento = pd.DataFrame(atende, columns=['cpf_paciente','inicio', 'termino', 'medico'])\n",
    "print(atendimento)"
   ]
  },
  {
   "cell_type": "code",
   "execution_count": 11,
   "metadata": {},
   "outputs": [
    {
     "name": "stdout",
     "output_type": "stream",
     "text": [
      "1900-01-01 23:30:00\n"
     ]
    }
   ],
   "source": [
    "filepath = Path('./atendimento.csv')\n",
    "filepath.parent.mkdir(parents=True, exist_ok=True)\n",
    "\n",
    "atendimento.to_csv(filepath)"
   ]
  }
 ],
 "metadata": {
  "kernelspec": {
   "display_name": "myenv",
   "language": "python",
   "name": "myenv"
  },
  "language_info": {
   "codemirror_mode": {
    "name": "ipython",
    "version": 3
   },
   "file_extension": ".py",
   "mimetype": "text/x-python",
   "name": "python",
   "nbconvert_exporter": "python",
   "pygments_lexer": "ipython3",
   "version": "3.8.7"
  }
 },
 "nbformat": 4,
 "nbformat_minor": 2
}
