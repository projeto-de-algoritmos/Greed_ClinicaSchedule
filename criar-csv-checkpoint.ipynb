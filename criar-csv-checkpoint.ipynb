{
 "cells": [
  {
   "cell_type": "code",
   "execution_count": 1,
   "metadata": {},
   "outputs": [],
   "source": [
    "from faker import Faker\n",
    "import numpy as np\n",
    "import pandas as pd\n",
    "import random\n",
    "from pathlib import Path"
   ]
  },
  {
   "cell_type": "code",
   "execution_count": 44,
   "metadata": {},
   "outputs": [
    {
     "name": "stderr",
     "output_type": "stream",
     "text": [
      "<ipython-input-44-a67a88b1e7a0>:6: FutureWarning: elementwise comparison failed; returning scalar instead, but in the future will perform elementwise comparison\n",
      "  if nome not in nomes:\n"
     ]
    }
   ],
   "source": [
    "faker = Faker()\n",
    "# Gera 50 nomes sem repeticao usando o faker\n",
    "nomes = np.array([])\n",
    "while len(nomes) < 50:\n",
    "    nome = faker.name()\n",
    "    if nome not in nomes:\n",
    "        nomes = np.append(nomes, nome)"
   ]
  },
  {
   "cell_type": "code",
   "execution_count": 45,
   "metadata": {},
   "outputs": [],
   "source": [
    "# Array criação csv\n",
    "\n",
    "colunas = [\"cpf_paciente\", \"paciente\", \"horario_inicio\", \"horario_termino\", \"medico\"]\n",
    "\n",
    "cpfs = [\"14527839605\",\n",
    "    \"90271483029\",\n",
    "    \"63789215640\",\n",
    "    \"20159476283\",\n",
    "    \"87642103957\",\n",
    "    \"41530968722\",\n",
    "    \"78926354107\",\n",
    "    \"32516790847\",\n",
    "    \"48095627361\",\n",
    "    \"56389274105\",\n",
    "    \"92047365821\",\n",
    "    \"18352609734\",\n",
    "    \"70586931254\",\n",
    "    \"40921835672\",\n",
    "    \"52736409185\",\n",
    "]\n",
    "\n",
    "pacientes = [\"Sofia Garcia da Silva\",\n",
    "    \"Lucas Oliveira Santos\",\n",
    "    \"Maria Fernandes Costa\",\n",
    "    \"João Pereira Rodrigues\",\n",
    "    \"Ana Lima Santos\",\n",
    "    \"Pedro Almeida Carvalho\",\n",
    "    \"Laura Ferreira Gomes\",\n",
    "    \"Gabriel Sousa Martins\",\n",
    "    \"Isabela Santos Silva\",\n",
    "    \"Thiago Oliveira Rodrigues\",\n",
    "    \"Beatriz Costa Alves\",\n",
    "    \"Felipe Cardoso Mendes\",\n",
    "    \"Clara Rodrigues Ramos\",\n",
    "    \"Miguel Santos Lima\",\n",
    "    \"Mariana Gomes Pereira\"]\n",
    "\n",
    "horario_inicio = [\"08:00\", \"09:30\", \"10:15\", \"11:45\", \"13:00\", \"14:30\", \"15:15\", \"16:45\", \"17:30\", \"18:45\", \"20:00\", \"21:15\", \"22:30\", \"23:45\", \"00:30\"]\n",
    "\n",
    "horario_termino = [\"09:00\", \"10:45\", \"11:30\", \"13:15\", \"14:45\", \"15:30\", \"17:00\", \"17:45\", \"19:00\", \"20:15\", \"21:30\", \"22:45\", \"00:00\", \"01:15\", \"02:30\"]\n",
    "\n",
    "dia = [\"2/6/2023\", \"1/06/2023\"]\n",
    "\n",
    "medicos = [\n",
    "    \"Lucas Mendes Castro\",\n",
    "    \"Isabella Santos Rocha\",\n",
    "    \"Guilherme Lima Oliveira\",\n",
    "    \"Laura Ferreira Costa\",\n",
    "    \"Matheus Oliveira Cardoso\",\n",
    "    \"Sophia Silva Carvalho\"\n",
    "]"
   ]
  },
  {
   "cell_type": "code",
   "execution_count": 46,
   "metadata": {},
   "outputs": [],
   "source": [
    "# cria a tabela vazia\n",
    "tabela = []\n",
    "\n",
    "for i in range(15):\n",
    "    \n",
    "    cpf_paciente = cpfs[i]\n",
    "    paciente = pacientes[i]\n",
    "    inicio = horario_inicio[i]\n",
    "    termino = horario_termino[i]\n",
    "    data = random.choice(dia)\n",
    "\n",
    "\n",
    "    tabela.append([cpf_paciente, paciente, inicio, termino, data])\n",
    "\n",
    "\n",
    "# A tabela usuarios vai ser o nosso dataframe base para trablharmos em cima do grafo\n",
    "usuarios = pd.DataFrame(tabela, columns=['cpf_paciente', 'paciente', 'inicio', 'termino', 'data'])\n",
    "\n",
    "\n",
    "filepath = Path('./paciente.csv')\n",
    "filepath.parent.mkdir(parents=True, exist_ok=True)\n",
    "\n",
    "usuarios.to_csv(filepath)"
   ]
  },
  {
   "cell_type": "code",
   "execution_count": 47,
   "metadata": {},
   "outputs": [
    {
     "name": "stdout",
     "output_type": "stream",
     "text": [
      "inicio:  ['3:47', '12:28', '22:36', '6:10', '13:27', '13:51'] fim:  ['11:47', '20:28', '7:36', '14:10', '21:27', '21:51']\n"
     ]
    }
   ],
   "source": [
    "#gera listas horários de inicio e fim de espediente dos medicos\n",
    "inicio = []\n",
    "fim = []\n",
    "\n",
    "for i in range(6):\n",
    "    horas = random.choice(range(23))\n",
    "    minutos = random.choice(range(59))\n",
    "    ini = str(horas) + \":\" + str(minutos)\n",
    "    inicio.append(ini)\n",
    "    hor = horas + 8\n",
    "    if hor>23:\n",
    "        hor -= 23\n",
    "    f = str(hor) + \":\" + str(minutos)\n",
    "    fim.append(f)\n",
    "    \n",
    "\n",
    "print(\"inicio: \", inicio, \"fim: \", fim)"
   ]
  },
  {
   "cell_type": "code",
   "execution_count": 48,
   "metadata": {},
   "outputs": [
    {
     "name": "stdout",
     "output_type": "stream",
     "text": [
      "3:47\n"
     ]
    }
   ],
   "source": [
    "# cria tabela horario medicos\n",
    "tabela_medicos = []\n",
    "print(inicio[0])\n",
    "\n",
    "for i in range(6):\n",
    "    \n",
    "    medico = medicos[i]\n",
    "    ini = inicio[i]\n",
    "    ter = fim[i]\n",
    "\n",
    "\n",
    "    tabela_medicos.append([medico, ini, ter])\n",
    "\n",
    "\n",
    "# A tabela usuarios vai ser o nosso dataframe base para trablharmos em cima do grafo\n",
    "usuarios = pd.DataFrame(tabela_medicos, columns=['medico','inicio', 'termino'])\n",
    "\n",
    "\n",
    "filepath = Path('./medicos.csv')\n",
    "filepath.parent.mkdir(parents=True, exist_ok=True)\n",
    "\n",
    "usuarios.to_csv(filepath)"
   ]
  },
  {
   "cell_type": "code",
   "execution_count": 54,
   "metadata": {},
   "outputs": [
    {
     "name": "stdout",
     "output_type": "stream",
     "text": [
      "    cpf_paciente inicio termino                    medico\n",
      "0    14527839605  08:00   09:00       Lucas Mendes Castro\n",
      "1    90271483029  09:30   10:45       Lucas Mendes Castro\n",
      "2    87642103957  13:00   14:45     Isabella Santos Rocha\n",
      "3    78926354107  15:15   17:00     Isabella Santos Rocha\n",
      "4    48095627361  17:30   19:00     Isabella Santos Rocha\n",
      "5    18352609734  21:15   22:45   Guilherme Lima Oliveira\n",
      "6    40921835672  23:45   01:15   Guilherme Lima Oliveira\n",
      "7    63789215640  10:15   11:30      Laura Ferreira Costa\n",
      "8    20159476283  11:45   13:15      Laura Ferreira Costa\n",
      "9    41530968722  14:30   15:30  Matheus Oliveira Cardoso\n",
      "10   32516790847  16:45   17:45  Matheus Oliveira Cardoso\n",
      "11   56389274105  18:45   20:15  Matheus Oliveira Cardoso\n",
      "12   92047365821  20:00   21:30     Sophia Silva Carvalho\n",
      "    Unnamed: 0  cpf_paciente               paciente inicio termino      data\n",
      "12          12   70586931254  Clara Rodrigues Ramos  22:30   00:00  2/6/2023\n",
      "14          14   52736409185  Mariana Gomes Pereira  00:30   02:30  2/6/2023\n"
     ]
    }
   ],
   "source": [
    "from dia_hora import verifica_conflito_hora\n",
    "import datetime\n",
    "import math\n",
    "\n",
    "def csv_interval_scheduling(index, rows):\n",
    "    A = []\n",
    "    index_inserido = []\n",
    "    count = 0\n",
    "    for i in rows:\n",
    "        if len(A) == 0:\n",
    "            A.append(i)\n",
    "            index_inserido.append(index[count])\n",
    "\n",
    "        else:\n",
    "            ultimo = datetime.datetime.strptime(A[-1][4], '%H:%M')   #recebe o horário de termino consulta\n",
    "            verifica = datetime.datetime.strptime(A[-1][3], '%H:%M')   #variavel para verificar virada do dia\n",
    "            disputante = datetime.datetime.strptime(i[3], '%H:%M')   #recebe horário de inicio da disputante a ultima\n",
    "            normal = True\n",
    "\n",
    "            #verifica virada do dia\n",
    "            if ultimo<verifica:\n",
    "                if disputante > verifica:\n",
    "                    normal = False\n",
    "            \n",
    "            if normal == True:\n",
    "                if ultimo < disputante:\n",
    "                    A.append(i)\n",
    "                    index_inserido.append(index[count])\n",
    "        count += 1\n",
    "\n",
    "    return index_inserido, A\n",
    "\n",
    "\n",
    "df = pd.read_csv('paciente.csv')\n",
    "dff = pd.read_csv('medicos.csv')\n",
    "\n",
    "atende = []\n",
    "\n",
    "for index, row in dff.iterrows():\n",
    "    rows = []\n",
    "    indexes = []\n",
    "    for ind, r in df.iterrows():\n",
    "        if type(r['inicio']) == float:\n",
    "            break\n",
    "        bol = verifica_conflito_hora(row['inicio'], row['termino'], r['inicio'], r['termino'])\n",
    "\n",
    "        if bol == True:\n",
    "            indexes.append(ind)\n",
    "            rows.append(r)\n",
    "    indice, linha = csv_interval_scheduling(indexes, rows)\n",
    "    for i in linha:\n",
    "        atende.append([i[1], i[3], i[4], row['medico']])\n",
    "    \n",
    "    df = df.drop(indice)\n",
    "\n",
    "atendimento = pd.DataFrame(atende, columns=['cpf_paciente','inicio', 'termino', 'medico'])\n",
    "print(atendimento)\n",
    "print(df)"
   ]
  },
  {
   "cell_type": "code",
   "execution_count": 55,
   "metadata": {},
   "outputs": [],
   "source": [
    "filepath = Path('./atendimento.csv')\n",
    "filepath.parent.mkdir(parents=True, exist_ok=True)\n",
    "\n",
    "atendimento.to_csv(filepath)"
   ]
  },
  {
   "cell_type": "code",
   "execution_count": 3,
   "metadata": {},
   "outputs": [],
   "source": [
    "from partitioning import interval_partioniong\n",
    "from operator import itemgetter\n",
    "import datetime\n",
    "\n",
    "df = pd.read_csv('atendimento.csv')\n",
    "\n",
    "atendiment = df.values.tolist()\n",
    "\n",
    "array = []\n",
    "array_depois = []\n",
    "\n",
    "for i in atendiment:\n",
    "    i[2] = datetime.datetime.strptime(i[2], '%H:%M')\n",
    "    i[3] = datetime.datetime.strptime(i[3], '%H:%M')\n",
    "\n",
    "    if i[2]>i[3]:\n",
    "        array_depois.append(i)\n",
    "\n",
    "    else:\n",
    "        array.append(i)\n",
    "\n",
    "coluna_index = 3  # Índice da coluna para ordenação\n",
    "array = sorted(array, key=itemgetter(coluna_index))\n",
    "array_depois = sorted(array_depois, key=itemgetter(coluna_index))\n",
    "\n",
    "array_ordenado = array + array_depois\n",
    "\n",
    "\n",
    "for i in array_ordenado:\n",
    "    dois = i[2]\n",
    "    tres = i[3]\n",
    "    i[2] = dois.strftime('%H:%M')\n",
    "    i[3] = tres.strftime('%H:%M')\n",
    "\n",
    "\n",
    "atendimento_sala = interval_partioniong(array_ordenado)"
   ]
  },
  {
   "cell_type": "code",
   "execution_count": 4,
   "metadata": {},
   "outputs": [
    {
     "name": "stdout",
     "output_type": "stream",
     "text": [
      "[[0, 14527839605, '08:00', '09:00', 'Lucas Mendes Castro', 1], [7, 63789215640, '10:15', '11:30', 'Laura Ferreira Costa', 1], [2, 87642103957, '13:00', '14:45', 'Isabella Santos Rocha', 1], [9, 41530968722, '14:30', '15:30', 'Matheus Oliveira Cardoso', 2], [3, 78926354107, '15:15', '17:00', 'Isabella Santos Rocha', 3], [10, 32516790847, '16:45', '17:45', 'Matheus Oliveira Cardoso', 4], [4, 48095627361, '17:30', '19:00', 'Isabella Santos Rocha', 5], [11, 56389274105, '18:45', '20:15', 'Matheus Oliveira Cardoso', 6], [12, 92047365821, '20:00', '21:30', 'Sophia Silva Carvalho', 7], [5, 18352609734, '21:15', '22:45', 'Guilherme Lima Oliveira', 8]]\n"
     ]
    }
   ],
   "source": [
    "print(atendimento_sala)"
   ]
  },
  {
   "cell_type": "code",
   "execution_count": 5,
   "metadata": {},
   "outputs": [
    {
     "ename": "AttributeError",
     "evalue": "'list' object has no attribute 'to_csv'",
     "output_type": "error",
     "traceback": [
      "\u001b[1;31m---------------------------------------------------------------------------\u001b[0m",
      "\u001b[1;31mAttributeError\u001b[0m                            Traceback (most recent call last)",
      "\u001b[1;32m<ipython-input-5-3b028fe64987>\u001b[0m in \u001b[0;36m<module>\u001b[1;34m\u001b[0m\n\u001b[0;32m      2\u001b[0m \u001b[0mfilepath\u001b[0m\u001b[1;33m.\u001b[0m\u001b[0mparent\u001b[0m\u001b[1;33m.\u001b[0m\u001b[0mmkdir\u001b[0m\u001b[1;33m(\u001b[0m\u001b[0mparents\u001b[0m\u001b[1;33m=\u001b[0m\u001b[1;32mTrue\u001b[0m\u001b[1;33m,\u001b[0m \u001b[0mexist_ok\u001b[0m\u001b[1;33m=\u001b[0m\u001b[1;32mTrue\u001b[0m\u001b[1;33m)\u001b[0m\u001b[1;33m\u001b[0m\u001b[1;33m\u001b[0m\u001b[0m\n\u001b[0;32m      3\u001b[0m \u001b[1;33m\u001b[0m\u001b[0m\n\u001b[1;32m----> 4\u001b[1;33m \u001b[0matendimento_sala\u001b[0m\u001b[1;33m.\u001b[0m\u001b[0mto_csv\u001b[0m\u001b[1;33m(\u001b[0m\u001b[0mfilepath\u001b[0m\u001b[1;33m)\u001b[0m\u001b[1;33m\u001b[0m\u001b[1;33m\u001b[0m\u001b[0m\n\u001b[0m",
      "\u001b[1;31mAttributeError\u001b[0m: 'list' object has no attribute 'to_csv'"
     ]
    }
   ],
   "source": [
    "atendimento_sala = pd.DataFrame(atende, columns=['cpf_paciente','inicio', 'termino', 'medico', 'sala'])\n",
    "\n",
    "filepath = Path('./atendimento.csv')\n",
    "filepath.parent.mkdir(parents=True, exist_ok=True)\n",
    "\n",
    "atendimento_sala.to_csv(filepath)"
   ]
  }
 ],
 "metadata": {
  "kernelspec": {
   "display_name": "myenv",
   "language": "python",
   "name": "myenv"
  },
  "language_info": {
   "codemirror_mode": {
    "name": "ipython",
    "version": 3
   },
   "file_extension": ".py",
   "mimetype": "text/x-python",
   "name": "python",
   "nbconvert_exporter": "python",
   "pygments_lexer": "ipython3",
   "version": "3.8.7"
  }
 },
 "nbformat": 4,
 "nbformat_minor": 2
}
